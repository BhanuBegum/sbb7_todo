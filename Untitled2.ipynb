{
 "cells": [
  {
   "cell_type": "code",
   "execution_count": 13,
   "id": "5d4d085e",
   "metadata": {},
   "outputs": [
    {
     "name": "stdout",
     "output_type": "stream",
     "text": [
      "Original:Hello! How are you today?\n",
      "Preprocessed:hello how are you today\n",
      "\n",
      "Original:I have 2 cats and 1 dog.\n",
      "Preprocessed:i have two cats and one dog\n",
      "\n",
      "Original:NLP is amazing!!!\n",
      "Preprocessed:nlp is amazing\n",
      "\n",
      "Original:The temperature is 30 degrees Celsius.\n",
      "Preprocessed:the temperature is thirty degrees celsius\n",
      "\n"
     ]
    }
   ],
   "source": [
    "import re\n",
    "import string\n",
    "import inflect\n",
    "def preprocess_text(text):\n",
    "    text=text.lower()\n",
    "    p=inflect.engine()\n",
    "    def convert_number_to_words(match):\n",
    "        return p.number_to_words(match.group())\n",
    "    text=re.sub(r'\\d+', convert_number_to_words, text)\n",
    "    text=text.translate(str.maketrans('','',string.punctuation))\n",
    "    text=' '.join(text.split())\n",
    "    return text\n",
    "statements=[\n",
    "    \"Hello! How are you today?\",\n",
    "    \"I have 2 cats and 1 dog.\",\n",
    "    \"NLP is amazing!!!\",\n",
    "    \"The temperature is 30 degrees Celsius.\"\n",
    "]\n",
    "preprocessed_statements=[preprocess_text(sentence) for sentence in statements]\n",
    "for original,processed in zip(statements, preprocessed_statements):\n",
    "    print(f\"Original:{original}\\nPreprocessed:{processed}\\n\")"
   ]
  },
  {
   "cell_type": "code",
   "execution_count": 15,
   "id": "92f6a3f5",
   "metadata": {},
   "outputs": [
    {
     "name": "stdout",
     "output_type": "stream",
     "text": [
      "\n",
      "Maximum Word Count: 32\n",
      "\n",
      "Minimum Word Count: 1\n",
      "\n",
      "Word Count:                                twitts  sentiment  word_counts\n",
      "385                         homework           0            1\n",
      "691                         @ekrelly           0            1\n",
      "1124                    disappointed           0            1\n",
      "1286                 @officialmgnfox           0            1\n",
      "1325                        headache           0            1\n",
      "1897                      @MCRmuffin           0            1\n",
      "2542                      Graduated!           1            1\n",
      "2947                         reading           1            1\n",
      "3176                    @omeirdeleon           1            1\n",
      "3470  www.myspace.com/myfinalthought           1            1\n",
      "3966                        @gethyp3           1            1\n"
     ]
    }
   ],
   "source": [
    "# 2.2 Text Preprocessing Operations \n",
    "import pandas as pd \n",
    "import numpy as np  \n",
    "import spacy \n",
    "from spacy.lang.en.stop_words import STOP_WORDS as stopwords  \n",
    "df = pd.read_csv('https://raw.githubusercontent.com/laxmimerit/twitter-data/master/twitter4000.csv', encoding = 'latin1')  \n",
    "df \n",
    "# Word Count \n",
    "len('this is what nlp is'.split()) \n",
    "df['word_counts'] = df['twitts'].apply(lambda x: len(str(x).split()))  \n",
    "df.sample(5) \n",
    "# Max, Min, and One Word Count \n",
    "print(\"\\nMaximum Word Count:\",df['word_counts'].max()) \n",
    "print(\"\\nMinimum Word Count:\",df['word_counts'].min())\n",
    "print(\"\\nWord Count:\",df[df['word_counts']==1]) "
   ]
  },
  {
   "cell_type": "code",
   "execution_count": null,
   "id": "e406f4dd",
   "metadata": {},
   "outputs": [],
   "source": []
  }
 ],
 "metadata": {
  "kernelspec": {
   "display_name": "Python 3 (ipykernel)",
   "language": "python",
   "name": "python3"
  },
  "language_info": {
   "codemirror_mode": {
    "name": "ipython",
    "version": 3
   },
   "file_extension": ".py",
   "mimetype": "text/x-python",
   "name": "python",
   "nbconvert_exporter": "python",
   "pygments_lexer": "ipython3",
   "version": "3.9.13"
  }
 },
 "nbformat": 4,
 "nbformat_minor": 5
}
